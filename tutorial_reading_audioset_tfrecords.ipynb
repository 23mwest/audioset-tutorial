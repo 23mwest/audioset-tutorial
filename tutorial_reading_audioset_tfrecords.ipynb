{
 "metadata": {
  "name": "",
  "signature": "sha256:31c82e4e76e48418b6335f4ac83aa862990e1032cd9727509ba6f7ca640fbd17"
 },
 "nbformat": 3,
 "nbformat_minor": 0,
 "worksheets": [
  {
   "cells": [
    {
     "cell_type": "code",
     "collapsed": false,
     "input": [
      "import tensorflow as tf\n",
      "import numpy as np"
     ],
     "language": "python",
     "metadata": {},
     "outputs": [],
     "prompt_number": 59
    },
    {
     "cell_type": "markdown",
     "metadata": {},
     "source": [
      "`examples` must contain IDs of all examples for one class"
     ]
    },
    {
     "cell_type": "code",
     "collapsed": false,
     "input": [
      "!grep /m/0l15bq balanced_train_segments.csv |head"
     ],
     "language": "python",
     "metadata": {},
     "outputs": [
      {
       "output_type": "stream",
       "stream": "stdout",
       "text": [
        "0FMdORf5iGs, 30.000, 40.000, \"/m/04rlf,/m/081rb,/m/09x0r,/m/0l15bq\"\r\n",
        "1IxBagCJeZc, 150.000, 160.000, \"/m/01j3sz,/m/09x0r,/m/0l15bq\"\r\n",
        "1_DouJRW3PM, 30.000, 40.000, \"/m/028ght,/m/09x0r,/m/0l15bq\"\r\n",
        "2y9ikTsTsl0, 30.000, 40.000, \"/m/028ght,/m/09x0r,/m/0l15bq\"\r\n",
        "3PliaLqMSqg, 30.000, 40.000, \"/m/028ght,/m/09x0r,/m/0l15bq\"\r\n",
        "3ixOXsKUufM, 30.000, 40.000, \"/m/0l15bq\"\r\n",
        "4mOTOTJLv5U, 0.000, 10.000, \"/m/09x0r,/m/0l15bq,/m/0ytgt\"\r\n",
        "7Ep2a7_sbmc, 260.000, 270.000, \"/m/09x0r,/m/0l15bq\"\r\n",
        "7SpYywlGPyM, 30.000, 40.000, \"/m/09x0r,/m/0k65p,/m/0l15bq,/m/0ytgt\"\r\n",
        "AiGF0850kT8, 6.000, 16.000, \"/m/04rlf,/m/0l15bq\"\r\n"
       ]
      }
     ],
     "prompt_number": 60
    },
    {
     "cell_type": "code",
     "collapsed": false,
     "input": [
      "examples = !grep /m/0l15bq balanced_train_segments.csv | head -2 | cut -c -11\n",
      "print examples"
     ],
     "language": "python",
     "metadata": {},
     "outputs": [
      {
       "output_type": "stream",
       "stream": "stdout",
       "text": [
        "['0FMdORf5iGs', '1IxBagCJeZc']\n"
       ]
      }
     ],
     "prompt_number": 61
    },
    {
     "cell_type": "code",
     "collapsed": false,
     "input": [
      "tfrecord_prefixes = set([i[:2] for i in examples])"
     ],
     "language": "python",
     "metadata": {},
     "outputs": [],
     "prompt_number": 62
    },
    {
     "cell_type": "code",
     "collapsed": false,
     "input": [
      "tfrecord_filenames = [\"bal_train/\" + i + \".tfrecord\" for i in tfrecord_prefixes]"
     ],
     "language": "python",
     "metadata": {},
     "outputs": [],
     "prompt_number": 63
    },
    {
     "cell_type": "code",
     "collapsed": false,
     "input": [
      "audio_embeddings_dict = {}\n",
      "audio_labels_dict = {}\n",
      "#all_tfrecord_filenames = glob.glob(\"bal_train/\" + example[:2] + \".tfrecord\")\n",
      "\n",
      "# Load embeddings\n",
      "sess = tf.Session() \n",
      "for tfrecord in tfrecord_filenames: \n",
      "  for example in tf.python_io.tf_record_iterator(tfrecord):\n",
      "    tf_example = tf.train.Example.FromString(example)\n",
      "    vid_id = tf_example.features.feature['video_id'].bytes_list.value[0].decode(encoding='UTF-8')\n",
      "    if vid_id in examples:\n",
      "      example_label = list(np.asarray(tf_example.features.feature['labels'].int64_list.value))\n",
      "      tf_seq_example = tf.train.SequenceExample.FromString(example)\n",
      "      n_frames = len(tf_seq_example.feature_lists.feature_list['audio_embedding'].feature)\n",
      "    \n",
      "      audio_frame = []\n",
      "      for i in range(n_frames):\n",
      "        audio_frame.append(tf.cast(tf.decode_raw(\n",
      "             tf_seq_example.feature_lists.feature_list['audio_embedding'].feature[i].bytes_list.value[0],tf.uint8)\n",
      "            ,tf.float32).eval(session=sess))\n",
      "      audio_embeddings_dict[vid_id] = audio_frame\n",
      "      audio_labels_dict[vid_id] = example_label"
     ],
     "language": "python",
     "metadata": {},
     "outputs": [],
     "prompt_number": 64
    },
    {
     "cell_type": "code",
     "collapsed": false,
     "input": [
      "print audio_labels_dict"
     ],
     "language": "python",
     "metadata": {},
     "outputs": [
      {
       "output_type": "stream",
       "stream": "stdout",
       "text": [
        "{u'0FMdORf5iGs': [0, 63, 137, 387], u'1IxBagCJeZc': [0, 16, 63]}\n"
       ]
      }
     ],
     "prompt_number": 65
    }
   ],
   "metadata": {}
  }
 ]
}